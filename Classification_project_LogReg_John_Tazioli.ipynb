{
 "cells": [
  {
   "cell_type": "markdown",
   "id": "ff49a5d9",
   "metadata": {},
   "source": [
    "# Logistic Regression Model for Animal Outcome Prediction\n",
    "Metis-Classification_Project\n",
    "14JUN2022\n",
    "John Tazioli"
   ]
  },
  {
   "cell_type": "markdown",
   "id": "c11d37e2",
   "metadata": {},
   "source": [
    "### Import Data:"
   ]
  },
  {
   "cell_type": "code",
   "execution_count": 1,
   "id": "8cb723b9",
   "metadata": {},
   "outputs": [],
   "source": [
    "import pandas as pd"
   ]
  },
  {
   "cell_type": "code",
   "execution_count": 2,
   "id": "727c1e07",
   "metadata": {},
   "outputs": [
    {
     "name": "stdout",
     "output_type": "stream",
     "text": [
      "<class 'pandas.core.frame.DataFrame'>\n",
      "RangeIndex: 21989 entries, 0 to 21988\n",
      "Data columns (total 24 columns):\n",
      " #   Column                      Non-Null Count  Dtype  \n",
      "---  ------                      --------------  -----  \n",
      " 0   animal_id_outcome           21989 non-null  object \n",
      " 1   date_of_birth               21989 non-null  object \n",
      " 2   outcome_subtype             3829 non-null   object \n",
      " 3   outcome_type                21989 non-null  object \n",
      " 4   sex_upon_outcome            21989 non-null  object \n",
      " 5   age_upon_outcome_(days)     21989 non-null  int64  \n",
      " 6   age_upon_outcome_(years)    21989 non-null  float64\n",
      " 7   age_upon_outcome_age_group  21989 non-null  object \n",
      " 8   outcome_datetime            21989 non-null  object \n",
      " 9   outcome_number              21989 non-null  int64  \n",
      " 10  dob_monthyear               21989 non-null  object \n",
      " 11  age_upon_intake             21989 non-null  object \n",
      " 12  animal_type                 21989 non-null  object \n",
      " 13  breed                       21989 non-null  object \n",
      " 14  color                       21989 non-null  object \n",
      " 15  intake_condition            21989 non-null  object \n",
      " 16  intake_type                 21989 non-null  object \n",
      " 17  sex_upon_intake             21989 non-null  object \n",
      " 18  count                       21989 non-null  int64  \n",
      " 19  age_upon_intake_(days)      21989 non-null  int64  \n",
      " 20  age_upon_intake_age_group   21989 non-null  object \n",
      " 21  intake_datetime             21989 non-null  object \n",
      " 22  intake_number               21989 non-null  int64  \n",
      " 23  time_in_shelter_days        21989 non-null  float64\n",
      "dtypes: float64(2), int64(5), object(17)\n",
      "memory usage: 4.0+ MB\n"
     ]
    }
   ],
   "source": [
    "df = pd.read_csv('dog.csv')\n",
    "df.info()"
   ]
  },
  {
   "cell_type": "markdown",
   "id": "b07416c5",
   "metadata": {},
   "source": [
    "### Isolate target Variable:"
   ]
  },
  {
   "cell_type": "code",
   "execution_count": 3,
   "id": "debf9086",
   "metadata": {},
   "outputs": [
    {
     "data": {
      "text/plain": [
       "array(['Adoption', 'Died', 'Euthanasia'], dtype=object)"
      ]
     },
     "execution_count": 3,
     "metadata": {},
     "output_type": "execute_result"
    }
   ],
   "source": [
    "#establish target variable of animal outcome\n",
    "y = df['outcome_type']\n",
    "y.unique()"
   ]
  },
  {
   "cell_type": "code",
   "execution_count": 4,
   "id": "c9d0f8fa",
   "metadata": {},
   "outputs": [
    {
     "data": {
      "text/plain": [
       "array(['Adoption', 'Euthanasia'], dtype=object)"
      ]
     },
     "execution_count": 4,
     "metadata": {},
     "output_type": "execute_result"
    }
   ],
   "source": [
    "# replace died with euthanasia since I already filtered out the dogs that were sick, injured upon arrival\n",
    "#or died outsidse the shelter\n",
    "y = y.replace('Died','Euthanasia')\n",
    "y.unique()"
   ]
  },
  {
   "cell_type": "code",
   "execution_count": 5,
   "id": "d236e178",
   "metadata": {},
   "outputs": [],
   "source": [
    "#map str to int\n",
    "y = y.map({'Euthanasia':0, 'Adoption':1})"
   ]
  },
  {
   "cell_type": "markdown",
   "id": "5783b0f2",
   "metadata": {},
   "source": [
    "### Isolate Baseline Features:\n",
    "-Breed\n",
    "-Age\n",
    "-In shelter More than once (Y/N)"
   ]
  },
  {
   "cell_type": "code",
   "execution_count": 6,
   "id": "95c3c8a5",
   "metadata": {},
   "outputs": [
    {
     "name": "stdout",
     "output_type": "stream",
     "text": [
      "<class 'pandas.core.frame.DataFrame'>\n",
      "RangeIndex: 21989 entries, 0 to 21988\n",
      "Data columns (total 4 columns):\n",
      " #   Column                     Non-Null Count  Dtype \n",
      "---  ------                     --------------  ----- \n",
      " 0   breed                      21989 non-null  object\n",
      " 1   age_upon_intake_age_group  21989 non-null  object\n",
      " 2   count                      21989 non-null  int64 \n",
      " 3   outcome_type               21989 non-null  object\n",
      "dtypes: int64(1), object(3)\n",
      "memory usage: 687.3+ KB\n"
     ]
    }
   ],
   "source": [
    "x = df[['breed', 'age_upon_intake_age_group', 'count', 'outcome_type']]\n",
    "x.info()"
   ]
  },
  {
   "cell_type": "code",
   "execution_count": 7,
   "id": "aa970244",
   "metadata": {},
   "outputs": [
    {
     "data": {
      "text/plain": [
       "breed\n",
       "Affenpinscher Mix                      4\n",
       "Afghan Hound/Labrador Retriever        1\n",
       "Airedale Terrier Mix                   5\n",
       "Airedale Terrier/Irish Terrier         1\n",
       "Airedale Terrier/Labrador Retriever    1\n",
       "Name: outcome_type, dtype: int64"
      ]
     },
     "execution_count": 7,
     "metadata": {},
     "output_type": "execute_result"
    }
   ],
   "source": [
    "breed_rate = x.groupby('breed')['outcome_type'].count()\n",
    "breed_rate.head()"
   ]
  },
  {
   "cell_type": "markdown",
   "id": "6192bd6e",
   "metadata": {},
   "source": [
    "1410 breeds, no easy way to simplify/group breeds. Too specific as is to help with modeling. New basline:"
   ]
  },
  {
   "cell_type": "code",
   "execution_count": 8,
   "id": "1cfd0c04",
   "metadata": {},
   "outputs": [
    {
     "name": "stdout",
     "output_type": "stream",
     "text": [
      "<class 'pandas.core.frame.DataFrame'>\n",
      "RangeIndex: 21989 entries, 0 to 21988\n",
      "Data columns (total 2 columns):\n",
      " #   Column                     Non-Null Count  Dtype \n",
      "---  ------                     --------------  ----- \n",
      " 0   age_upon_intake_age_group  21989 non-null  object\n",
      " 1   count                      21989 non-null  int64 \n",
      "dtypes: int64(1), object(1)\n",
      "memory usage: 343.7+ KB\n"
     ]
    }
   ],
   "source": [
    "x_bs = df[['age_upon_intake_age_group', 'count']]\n",
    "x_bs.info()"
   ]
  },
  {
   "cell_type": "code",
   "execution_count": 9,
   "id": "04fa2870",
   "metadata": {},
   "outputs": [
    {
     "name": "stderr",
     "output_type": "stream",
     "text": [
      "/home/jtaz/anaconda3/lib/python3.9/site-packages/pandas/core/generic.py:6619: SettingWithCopyWarning: \n",
      "A value is trying to be set on a copy of a slice from a DataFrame\n",
      "\n",
      "See the caveats in the documentation: https://pandas.pydata.org/pandas-docs/stable/user_guide/indexing.html#returning-a-view-versus-a-copy\n",
      "  return self._update_inplace(result)\n"
     ]
    },
    {
     "data": {
      "text/plain": [
       "0         senior\n",
       "1    late_senior\n",
       "2         senior\n",
       "3         senior\n",
       "4         senior\n",
       "Name: age_upon_intake_age_group, dtype: object"
      ]
     },
     "execution_count": 9,
     "metadata": {},
     "output_type": "execute_result"
    }
   ],
   "source": [
    "# convert age groups to 4 eras in a dogs life\n",
    "x_bs.age_upon_intake_age_group.replace('(-0.025, 2.5]', 'puppy', inplace=True)\n",
    "x_bs.age_upon_intake_age_group.replace('(2.5, 5.0]', 'adult', inplace=True)\n",
    "x_bs.age_upon_intake_age_group.replace('(5.0, 7.5]', 'adult', inplace=True)\n",
    "x_bs.age_upon_intake_age_group.replace('(7.5, 10.0]', 'senior', inplace=True)\n",
    "x_bs.age_upon_intake_age_group.replace('(10.0, 12.5]', 'senior', inplace=True)\n",
    "x_bs.age_upon_intake_age_group.replace('(12.5, 15.0]', 'late_senior', inplace=True)\n",
    "x_bs.age_upon_intake_age_group.replace('(15.0, 17.5]', 'late_senior', inplace=True)\n",
    "x_bs.age_upon_intake_age_group.replace('(17.5, 20.0]', 'late_senior', inplace=True)\n",
    "x_bs.age_upon_intake_age_group.head()"
   ]
  },
  {
   "cell_type": "code",
   "execution_count": 10,
   "id": "a5a878da",
   "metadata": {},
   "outputs": [],
   "source": [
    "#need dummy variables for categorical age groups\n",
    "x_base = pd.concat([x_bs,\n",
    "               pd.get_dummies(x_bs['age_upon_intake_age_group'], drop_first = True)],\n",
    "              axis = 1)\n",
    "x_base = x_base.loc[:,'count':'senior']\n"
   ]
  },
  {
   "cell_type": "markdown",
   "id": "3ce6f4da",
   "metadata": {},
   "source": [
    "### Logistic Regression"
   ]
  },
  {
   "cell_type": "code",
   "execution_count": 17,
   "id": "2b22f8c0",
   "metadata": {},
   "outputs": [
    {
     "data": {
      "text/plain": [
       "LogisticRegression()"
      ]
     },
     "execution_count": 17,
     "metadata": {},
     "output_type": "execute_result"
    }
   ],
   "source": [
    "from sklearn.linear_model import LogisticRegression\n",
    "\n",
    "logreg = LogisticRegression()\n",
    "\n",
    "logreg.fit(x_base, y)"
   ]
  },
  {
   "cell_type": "code",
   "execution_count": 18,
   "id": "cf7d7df5",
   "metadata": {},
   "outputs": [
    {
     "name": "stdout",
     "output_type": "stream",
     "text": [
      "Acc: 0.9358315521397063\n",
      "F1: 0.9668522564427844\n"
     ]
    }
   ],
   "source": [
    "from sklearn.metrics import f1_score\n",
    "\n",
    "lr_bs_acc = logreg.score(x_base, y)\n",
    "\n",
    "y_lr_base_pred = pd.Series(logreg.predict(x_base))\n",
    "\n",
    "print(f\"Acc: {lr_bs_acc}\")\n",
    "print(f\"F1: {f1_score(y, y_lr_base_pred)}\")"
   ]
  },
  {
   "cell_type": "code",
   "execution_count": 19,
   "id": "2719f2a1",
   "metadata": {},
   "outputs": [
    {
     "data": {
      "text/plain": [
       "array([[    0,  1411],\n",
       "       [    0, 20578]])"
      ]
     },
     "execution_count": 19,
     "metadata": {},
     "output_type": "execute_result"
    }
   ],
   "source": [
    "from sklearn.metrics import confusion_matrix\n",
    "\n",
    "y_pred = logreg.predict(x_base)\n",
    "confusion_matrix(y,y_pred)"
   ]
  },
  {
   "cell_type": "markdown",
   "id": "48a2fd90",
   "metadata": {},
   "source": [
    "###Conclusion:\n",
    "model assumed all animals were being adopted and was 93% right. Need better indicator for euthanasia."
   ]
  },
  {
   "cell_type": "markdown",
   "id": "3603c4eb",
   "metadata": {},
   "source": [
    "## New Model, New Features:\n",
    "1. Breed Euth Frequency\n",
    "2. Age upon arrival in days\n",
    "3. days in shelter\n",
    "4. intake status: categorical with dummy variables\n",
    "5. color maybe"
   ]
  },
  {
   "cell_type": "markdown",
   "id": "40f1a86e",
   "metadata": {},
   "source": [
    "### Breed (Euth Freq)\n",
    "create column with percent euthanized organized by breed"
   ]
  },
  {
   "cell_type": "code",
   "execution_count": 20,
   "id": "a8488333",
   "metadata": {},
   "outputs": [],
   "source": [
    "x = x.replace('Died','Euthanasia')"
   ]
  },
  {
   "cell_type": "code",
   "execution_count": 21,
   "id": "7788041f",
   "metadata": {},
   "outputs": [],
   "source": [
    "x['breed_freq'] = x.groupby('breed').outcome_type.transform('count')"
   ]
  },
  {
   "cell_type": "code",
   "execution_count": 22,
   "id": "0a851f82",
   "metadata": {},
   "outputs": [
    {
     "data": {
      "text/html": [
       "<div>\n",
       "<style scoped>\n",
       "    .dataframe tbody tr th:only-of-type {\n",
       "        vertical-align: middle;\n",
       "    }\n",
       "\n",
       "    .dataframe tbody tr th {\n",
       "        vertical-align: top;\n",
       "    }\n",
       "\n",
       "    .dataframe thead th {\n",
       "        text-align: right;\n",
       "    }\n",
       "</style>\n",
       "<table border=\"1\" class=\"dataframe\">\n",
       "  <thead>\n",
       "    <tr style=\"text-align: right;\">\n",
       "      <th></th>\n",
       "      <th>breed</th>\n",
       "      <th>age_upon_intake_age_group</th>\n",
       "      <th>count</th>\n",
       "      <th>outcome_type</th>\n",
       "      <th>breed_freq</th>\n",
       "    </tr>\n",
       "  </thead>\n",
       "  <tbody>\n",
       "    <tr>\n",
       "      <th>0</th>\n",
       "      <td>Pointer Mix</td>\n",
       "      <td>(10.0, 12.5]</td>\n",
       "      <td>1</td>\n",
       "      <td>Adoption</td>\n",
       "      <td>200</td>\n",
       "    </tr>\n",
       "    <tr>\n",
       "      <th>1</th>\n",
       "      <td>Border Collie Mix</td>\n",
       "      <td>(15.0, 17.5]</td>\n",
       "      <td>1</td>\n",
       "      <td>Adoption</td>\n",
       "      <td>366</td>\n",
       "    </tr>\n",
       "    <tr>\n",
       "      <th>2</th>\n",
       "      <td>German Shepherd Mix</td>\n",
       "      <td>(10.0, 12.5]</td>\n",
       "      <td>1</td>\n",
       "      <td>Adoption</td>\n",
       "      <td>964</td>\n",
       "    </tr>\n",
       "    <tr>\n",
       "      <th>3</th>\n",
       "      <td>Labrador Retriever/German Shepherd</td>\n",
       "      <td>(7.5, 10.0]</td>\n",
       "      <td>1</td>\n",
       "      <td>Adoption</td>\n",
       "      <td>82</td>\n",
       "    </tr>\n",
       "    <tr>\n",
       "      <th>4</th>\n",
       "      <td>Chihuahua Shorthair Mix</td>\n",
       "      <td>(7.5, 10.0]</td>\n",
       "      <td>1</td>\n",
       "      <td>Adoption</td>\n",
       "      <td>2414</td>\n",
       "    </tr>\n",
       "  </tbody>\n",
       "</table>\n",
       "</div>"
      ],
      "text/plain": [
       "                                breed age_upon_intake_age_group  count  \\\n",
       "0                         Pointer Mix              (10.0, 12.5]      1   \n",
       "1                   Border Collie Mix              (15.0, 17.5]      1   \n",
       "2                 German Shepherd Mix              (10.0, 12.5]      1   \n",
       "3  Labrador Retriever/German Shepherd               (7.5, 10.0]      1   \n",
       "4             Chihuahua Shorthair Mix               (7.5, 10.0]      1   \n",
       "\n",
       "  outcome_type  breed_freq  \n",
       "0     Adoption         200  \n",
       "1     Adoption         366  \n",
       "2     Adoption         964  \n",
       "3     Adoption          82  \n",
       "4     Adoption        2414  "
      ]
     },
     "execution_count": 22,
     "metadata": {},
     "output_type": "execute_result"
    }
   ],
   "source": [
    "x.head()"
   ]
  },
  {
   "cell_type": "code",
   "execution_count": 23,
   "id": "39dfcf22",
   "metadata": {},
   "outputs": [],
   "source": [
    "euth_freq = x[x['outcome_type'] == 'Euthanasia'].groupby('breed').outcome_type.transform('count')"
   ]
  },
  {
   "cell_type": "markdown",
   "id": "8b69a633",
   "metadata": {},
   "source": [
    "map 'outcome_type' to Euthanasia = 1 and Adoption = 0"
   ]
  },
  {
   "cell_type": "code",
   "execution_count": 30,
   "id": "2391e11f",
   "metadata": {},
   "outputs": [
    {
     "data": {
      "text/html": [
       "<div>\n",
       "<style scoped>\n",
       "    .dataframe tbody tr th:only-of-type {\n",
       "        vertical-align: middle;\n",
       "    }\n",
       "\n",
       "    .dataframe tbody tr th {\n",
       "        vertical-align: top;\n",
       "    }\n",
       "\n",
       "    .dataframe thead th {\n",
       "        text-align: right;\n",
       "    }\n",
       "</style>\n",
       "<table border=\"1\" class=\"dataframe\">\n",
       "  <thead>\n",
       "    <tr style=\"text-align: right;\">\n",
       "      <th></th>\n",
       "      <th>breed</th>\n",
       "      <th>age_upon_intake_age_group</th>\n",
       "      <th>count</th>\n",
       "      <th>outcome_type</th>\n",
       "      <th>breed_freq</th>\n",
       "    </tr>\n",
       "  </thead>\n",
       "  <tbody>\n",
       "    <tr>\n",
       "      <th>0</th>\n",
       "      <td>Pointer Mix</td>\n",
       "      <td>(10.0, 12.5]</td>\n",
       "      <td>1</td>\n",
       "      <td>0</td>\n",
       "      <td>200</td>\n",
       "    </tr>\n",
       "    <tr>\n",
       "      <th>1</th>\n",
       "      <td>Border Collie Mix</td>\n",
       "      <td>(15.0, 17.5]</td>\n",
       "      <td>1</td>\n",
       "      <td>0</td>\n",
       "      <td>366</td>\n",
       "    </tr>\n",
       "    <tr>\n",
       "      <th>2</th>\n",
       "      <td>German Shepherd Mix</td>\n",
       "      <td>(10.0, 12.5]</td>\n",
       "      <td>1</td>\n",
       "      <td>0</td>\n",
       "      <td>964</td>\n",
       "    </tr>\n",
       "    <tr>\n",
       "      <th>3</th>\n",
       "      <td>Labrador Retriever/German Shepherd</td>\n",
       "      <td>(7.5, 10.0]</td>\n",
       "      <td>1</td>\n",
       "      <td>0</td>\n",
       "      <td>82</td>\n",
       "    </tr>\n",
       "    <tr>\n",
       "      <th>4</th>\n",
       "      <td>Chihuahua Shorthair Mix</td>\n",
       "      <td>(7.5, 10.0]</td>\n",
       "      <td>1</td>\n",
       "      <td>0</td>\n",
       "      <td>2414</td>\n",
       "    </tr>\n",
       "  </tbody>\n",
       "</table>\n",
       "</div>"
      ],
      "text/plain": [
       "                                breed age_upon_intake_age_group  count  \\\n",
       "0                         Pointer Mix              (10.0, 12.5]      1   \n",
       "1                   Border Collie Mix              (15.0, 17.5]      1   \n",
       "2                 German Shepherd Mix              (10.0, 12.5]      1   \n",
       "3  Labrador Retriever/German Shepherd               (7.5, 10.0]      1   \n",
       "4             Chihuahua Shorthair Mix               (7.5, 10.0]      1   \n",
       "\n",
       "   outcome_type  breed_freq  \n",
       "0             0         200  \n",
       "1             0         366  \n",
       "2             0         964  \n",
       "3             0          82  \n",
       "4             0        2414  "
      ]
     },
     "execution_count": 30,
     "metadata": {},
     "output_type": "execute_result"
    }
   ],
   "source": [
    "x_ef = x.copy()\n",
    "x_ef.outcome_type = x_ef.outcome_type.map({'Euthanasia':1, 'Adoption':0})\n",
    "x_ef.head()"
   ]
  },
  {
   "cell_type": "code",
   "execution_count": 31,
   "id": "6847031f",
   "metadata": {},
   "outputs": [
    {
     "name": "stdout",
     "output_type": "stream",
     "text": [
      "<class 'pandas.core.frame.DataFrame'>\n",
      "RangeIndex: 21989 entries, 0 to 21988\n",
      "Data columns (total 6 columns):\n",
      " #   Column                     Non-Null Count  Dtype \n",
      "---  ------                     --------------  ----- \n",
      " 0   breed                      21989 non-null  object\n",
      " 1   age_upon_intake_age_group  21989 non-null  object\n",
      " 2   count                      21989 non-null  int64 \n",
      " 3   outcome_type               21989 non-null  int64 \n",
      " 4   breed_freq                 21989 non-null  int64 \n",
      " 5   euth_freq                  21989 non-null  int64 \n",
      "dtypes: int64(4), object(2)\n",
      "memory usage: 1.0+ MB\n"
     ]
    }
   ],
   "source": [
    "x_ef['euth_freq'] = x_ef.groupby('breed').outcome_type.transform('sum')\n",
    "x_ef.info()"
   ]
  },
  {
   "cell_type": "code",
   "execution_count": 32,
   "id": "fa8f0c19",
   "metadata": {},
   "outputs": [
    {
     "data": {
      "text/html": [
       "<div>\n",
       "<style scoped>\n",
       "    .dataframe tbody tr th:only-of-type {\n",
       "        vertical-align: middle;\n",
       "    }\n",
       "\n",
       "    .dataframe tbody tr th {\n",
       "        vertical-align: top;\n",
       "    }\n",
       "\n",
       "    .dataframe thead th {\n",
       "        text-align: right;\n",
       "    }\n",
       "</style>\n",
       "<table border=\"1\" class=\"dataframe\">\n",
       "  <thead>\n",
       "    <tr style=\"text-align: right;\">\n",
       "      <th></th>\n",
       "      <th>breed</th>\n",
       "      <th>age_upon_intake_age_group</th>\n",
       "      <th>count</th>\n",
       "      <th>outcome_type</th>\n",
       "      <th>breed_freq</th>\n",
       "      <th>euth_freq</th>\n",
       "      <th>euth_rate</th>\n",
       "    </tr>\n",
       "  </thead>\n",
       "  <tbody>\n",
       "    <tr>\n",
       "      <th>0</th>\n",
       "      <td>Pointer Mix</td>\n",
       "      <td>(10.0, 12.5]</td>\n",
       "      <td>1</td>\n",
       "      <td>0</td>\n",
       "      <td>200</td>\n",
       "      <td>3</td>\n",
       "      <td>0.015000</td>\n",
       "    </tr>\n",
       "    <tr>\n",
       "      <th>1</th>\n",
       "      <td>Border Collie Mix</td>\n",
       "      <td>(15.0, 17.5]</td>\n",
       "      <td>1</td>\n",
       "      <td>0</td>\n",
       "      <td>366</td>\n",
       "      <td>14</td>\n",
       "      <td>0.038251</td>\n",
       "    </tr>\n",
       "    <tr>\n",
       "      <th>2</th>\n",
       "      <td>German Shepherd Mix</td>\n",
       "      <td>(10.0, 12.5]</td>\n",
       "      <td>1</td>\n",
       "      <td>0</td>\n",
       "      <td>964</td>\n",
       "      <td>42</td>\n",
       "      <td>0.043568</td>\n",
       "    </tr>\n",
       "    <tr>\n",
       "      <th>3</th>\n",
       "      <td>Labrador Retriever/German Shepherd</td>\n",
       "      <td>(7.5, 10.0]</td>\n",
       "      <td>1</td>\n",
       "      <td>0</td>\n",
       "      <td>82</td>\n",
       "      <td>5</td>\n",
       "      <td>0.060976</td>\n",
       "    </tr>\n",
       "    <tr>\n",
       "      <th>4</th>\n",
       "      <td>Chihuahua Shorthair Mix</td>\n",
       "      <td>(7.5, 10.0]</td>\n",
       "      <td>1</td>\n",
       "      <td>0</td>\n",
       "      <td>2414</td>\n",
       "      <td>144</td>\n",
       "      <td>0.059652</td>\n",
       "    </tr>\n",
       "  </tbody>\n",
       "</table>\n",
       "</div>"
      ],
      "text/plain": [
       "                                breed age_upon_intake_age_group  count  \\\n",
       "0                         Pointer Mix              (10.0, 12.5]      1   \n",
       "1                   Border Collie Mix              (15.0, 17.5]      1   \n",
       "2                 German Shepherd Mix              (10.0, 12.5]      1   \n",
       "3  Labrador Retriever/German Shepherd               (7.5, 10.0]      1   \n",
       "4             Chihuahua Shorthair Mix               (7.5, 10.0]      1   \n",
       "\n",
       "   outcome_type  breed_freq  euth_freq  euth_rate  \n",
       "0             0         200          3   0.015000  \n",
       "1             0         366         14   0.038251  \n",
       "2             0         964         42   0.043568  \n",
       "3             0          82          5   0.060976  \n",
       "4             0        2414        144   0.059652  "
      ]
     },
     "execution_count": 32,
     "metadata": {},
     "output_type": "execute_result"
    }
   ],
   "source": [
    "x_ef['euth_rate'] = x_ef['euth_freq']/x_ef['breed_freq']\n",
    "x_ef.head()"
   ]
  },
  {
   "cell_type": "code",
   "execution_count": 47,
   "id": "741f4ad0",
   "metadata": {
    "scrolled": true
   },
   "outputs": [
    {
     "data": {
      "text/html": [
       "<div>\n",
       "<style scoped>\n",
       "    .dataframe tbody tr th:only-of-type {\n",
       "        vertical-align: middle;\n",
       "    }\n",
       "\n",
       "    .dataframe tbody tr th {\n",
       "        vertical-align: top;\n",
       "    }\n",
       "\n",
       "    .dataframe thead th {\n",
       "        text-align: right;\n",
       "    }\n",
       "</style>\n",
       "<table border=\"1\" class=\"dataframe\">\n",
       "  <thead>\n",
       "    <tr style=\"text-align: right;\">\n",
       "      <th></th>\n",
       "      <th>breed</th>\n",
       "      <th>age_upon_intake_age_group</th>\n",
       "      <th>count</th>\n",
       "      <th>outcome_type</th>\n",
       "      <th>breed_freq</th>\n",
       "      <th>euth_freq</th>\n",
       "      <th>euth_rate</th>\n",
       "    </tr>\n",
       "  </thead>\n",
       "  <tbody>\n",
       "    <tr>\n",
       "      <th>8918</th>\n",
       "      <td>Queensland Heeler/German Shepherd</td>\n",
       "      <td>(12.5, 15.0]</td>\n",
       "      <td>1</td>\n",
       "      <td>1</td>\n",
       "      <td>1</td>\n",
       "      <td>1</td>\n",
       "      <td>1.0</td>\n",
       "    </tr>\n",
       "    <tr>\n",
       "      <th>9198</th>\n",
       "      <td>Bulldog/Pit Bull</td>\n",
       "      <td>(2.5, 5.0]</td>\n",
       "      <td>1</td>\n",
       "      <td>1</td>\n",
       "      <td>1</td>\n",
       "      <td>1</td>\n",
       "      <td>1.0</td>\n",
       "    </tr>\n",
       "    <tr>\n",
       "      <th>9546</th>\n",
       "      <td>Rottweiler/Chow Chow</td>\n",
       "      <td>(10.0, 12.5]</td>\n",
       "      <td>1</td>\n",
       "      <td>1</td>\n",
       "      <td>1</td>\n",
       "      <td>1</td>\n",
       "      <td>1.0</td>\n",
       "    </tr>\n",
       "    <tr>\n",
       "      <th>9791</th>\n",
       "      <td>Boxer/Jack Russell Terrier</td>\n",
       "      <td>(-0.025, 2.5]</td>\n",
       "      <td>1</td>\n",
       "      <td>1</td>\n",
       "      <td>1</td>\n",
       "      <td>1</td>\n",
       "      <td>1.0</td>\n",
       "    </tr>\n",
       "    <tr>\n",
       "      <th>10991</th>\n",
       "      <td>Miniature Pinscher/Australian Cattle Dog</td>\n",
       "      <td>(-0.025, 2.5]</td>\n",
       "      <td>1</td>\n",
       "      <td>1</td>\n",
       "      <td>1</td>\n",
       "      <td>1</td>\n",
       "      <td>1.0</td>\n",
       "    </tr>\n",
       "    <tr>\n",
       "      <th>11071</th>\n",
       "      <td>Chow Chow/English Cocker Spaniel</td>\n",
       "      <td>(2.5, 5.0]</td>\n",
       "      <td>1</td>\n",
       "      <td>1</td>\n",
       "      <td>1</td>\n",
       "      <td>1</td>\n",
       "      <td>1.0</td>\n",
       "    </tr>\n",
       "    <tr>\n",
       "      <th>11107</th>\n",
       "      <td>Canaan Dog/Pit Bull</td>\n",
       "      <td>(-0.025, 2.5]</td>\n",
       "      <td>1</td>\n",
       "      <td>1</td>\n",
       "      <td>1</td>\n",
       "      <td>1</td>\n",
       "      <td>1.0</td>\n",
       "    </tr>\n",
       "    <tr>\n",
       "      <th>11112</th>\n",
       "      <td>Pit Bull/St. Bernard Smooth Coat</td>\n",
       "      <td>(-0.025, 2.5]</td>\n",
       "      <td>1</td>\n",
       "      <td>1</td>\n",
       "      <td>1</td>\n",
       "      <td>1</td>\n",
       "      <td>1.0</td>\n",
       "    </tr>\n",
       "    <tr>\n",
       "      <th>11123</th>\n",
       "      <td>Plott Hound/Australian Cattle Dog</td>\n",
       "      <td>(-0.025, 2.5]</td>\n",
       "      <td>1</td>\n",
       "      <td>1</td>\n",
       "      <td>1</td>\n",
       "      <td>1</td>\n",
       "      <td>1.0</td>\n",
       "    </tr>\n",
       "    <tr>\n",
       "      <th>11157</th>\n",
       "      <td>Pit Bull/Pit Bull</td>\n",
       "      <td>(-0.025, 2.5]</td>\n",
       "      <td>1</td>\n",
       "      <td>1</td>\n",
       "      <td>1</td>\n",
       "      <td>1</td>\n",
       "      <td>1.0</td>\n",
       "    </tr>\n",
       "    <tr>\n",
       "      <th>11796</th>\n",
       "      <td>Great Pyrenees/Pit Bull</td>\n",
       "      <td>(-0.025, 2.5]</td>\n",
       "      <td>1</td>\n",
       "      <td>1</td>\n",
       "      <td>2</td>\n",
       "      <td>2</td>\n",
       "      <td>1.0</td>\n",
       "    </tr>\n",
       "    <tr>\n",
       "      <th>11816</th>\n",
       "      <td>Siberian Husky/Great Pyrenees</td>\n",
       "      <td>(10.0, 12.5]</td>\n",
       "      <td>1</td>\n",
       "      <td>1</td>\n",
       "      <td>1</td>\n",
       "      <td>1</td>\n",
       "      <td>1.0</td>\n",
       "    </tr>\n",
       "    <tr>\n",
       "      <th>12000</th>\n",
       "      <td>Akita/Pit Bull</td>\n",
       "      <td>(-0.025, 2.5]</td>\n",
       "      <td>1</td>\n",
       "      <td>1</td>\n",
       "      <td>1</td>\n",
       "      <td>1</td>\n",
       "      <td>1.0</td>\n",
       "    </tr>\n",
       "    <tr>\n",
       "      <th>12047</th>\n",
       "      <td>Cavalier Span/Jack Russell Terrier</td>\n",
       "      <td>(2.5, 5.0]</td>\n",
       "      <td>1</td>\n",
       "      <td>1</td>\n",
       "      <td>1</td>\n",
       "      <td>1</td>\n",
       "      <td>1.0</td>\n",
       "    </tr>\n",
       "    <tr>\n",
       "      <th>12118</th>\n",
       "      <td>Boxer/Queensland Heeler</td>\n",
       "      <td>(-0.025, 2.5]</td>\n",
       "      <td>1</td>\n",
       "      <td>1</td>\n",
       "      <td>1</td>\n",
       "      <td>1</td>\n",
       "      <td>1.0</td>\n",
       "    </tr>\n",
       "    <tr>\n",
       "      <th>12406</th>\n",
       "      <td>American Bulldog/Boxer</td>\n",
       "      <td>(2.5, 5.0]</td>\n",
       "      <td>1</td>\n",
       "      <td>1</td>\n",
       "      <td>2</td>\n",
       "      <td>2</td>\n",
       "      <td>1.0</td>\n",
       "    </tr>\n",
       "    <tr>\n",
       "      <th>12662</th>\n",
       "      <td>Queensland Heeler/Parson Russell Terrier</td>\n",
       "      <td>(-0.025, 2.5]</td>\n",
       "      <td>1</td>\n",
       "      <td>1</td>\n",
       "      <td>1</td>\n",
       "      <td>1</td>\n",
       "      <td>1.0</td>\n",
       "    </tr>\n",
       "    <tr>\n",
       "      <th>12789</th>\n",
       "      <td>Greyhound/Airedale Terrier</td>\n",
       "      <td>(5.0, 7.5]</td>\n",
       "      <td>1</td>\n",
       "      <td>1</td>\n",
       "      <td>1</td>\n",
       "      <td>1</td>\n",
       "      <td>1.0</td>\n",
       "    </tr>\n",
       "    <tr>\n",
       "      <th>12812</th>\n",
       "      <td>Standard Schnauzer/Border Terrier</td>\n",
       "      <td>(7.5, 10.0]</td>\n",
       "      <td>1</td>\n",
       "      <td>1</td>\n",
       "      <td>1</td>\n",
       "      <td>1</td>\n",
       "      <td>1.0</td>\n",
       "    </tr>\n",
       "    <tr>\n",
       "      <th>13391</th>\n",
       "      <td>American Staffordshire Terrier/Plott Hound</td>\n",
       "      <td>(-0.025, 2.5]</td>\n",
       "      <td>1</td>\n",
       "      <td>1</td>\n",
       "      <td>1</td>\n",
       "      <td>1</td>\n",
       "      <td>1.0</td>\n",
       "    </tr>\n",
       "    <tr>\n",
       "      <th>13813</th>\n",
       "      <td>Boxer/Dogue De Bordeaux</td>\n",
       "      <td>(-0.025, 2.5]</td>\n",
       "      <td>1</td>\n",
       "      <td>1</td>\n",
       "      <td>1</td>\n",
       "      <td>1</td>\n",
       "      <td>1.0</td>\n",
       "    </tr>\n",
       "    <tr>\n",
       "      <th>14323</th>\n",
       "      <td>Jack Russell Terrier/Chihuahua Longhair</td>\n",
       "      <td>(-0.025, 2.5]</td>\n",
       "      <td>1</td>\n",
       "      <td>1</td>\n",
       "      <td>1</td>\n",
       "      <td>1</td>\n",
       "      <td>1.0</td>\n",
       "    </tr>\n",
       "    <tr>\n",
       "      <th>16152</th>\n",
       "      <td>Belgian Tervuren/German Shepherd</td>\n",
       "      <td>(10.0, 12.5]</td>\n",
       "      <td>1</td>\n",
       "      <td>1</td>\n",
       "      <td>1</td>\n",
       "      <td>1</td>\n",
       "      <td>1.0</td>\n",
       "    </tr>\n",
       "    <tr>\n",
       "      <th>16678</th>\n",
       "      <td>English Springer Spaniel/Beagle</td>\n",
       "      <td>(7.5, 10.0]</td>\n",
       "      <td>1</td>\n",
       "      <td>1</td>\n",
       "      <td>1</td>\n",
       "      <td>1</td>\n",
       "      <td>1.0</td>\n",
       "    </tr>\n",
       "    <tr>\n",
       "      <th>16873</th>\n",
       "      <td>Great Pyrenees/Pit Bull</td>\n",
       "      <td>(7.5, 10.0]</td>\n",
       "      <td>1</td>\n",
       "      <td>1</td>\n",
       "      <td>2</td>\n",
       "      <td>2</td>\n",
       "      <td>1.0</td>\n",
       "    </tr>\n",
       "    <tr>\n",
       "      <th>17176</th>\n",
       "      <td>American Bulldog/Boxer</td>\n",
       "      <td>(-0.025, 2.5]</td>\n",
       "      <td>1</td>\n",
       "      <td>1</td>\n",
       "      <td>2</td>\n",
       "      <td>2</td>\n",
       "      <td>1.0</td>\n",
       "    </tr>\n",
       "    <tr>\n",
       "      <th>17312</th>\n",
       "      <td>American Foxhound</td>\n",
       "      <td>(-0.025, 2.5]</td>\n",
       "      <td>1</td>\n",
       "      <td>1</td>\n",
       "      <td>1</td>\n",
       "      <td>1</td>\n",
       "      <td>1.0</td>\n",
       "    </tr>\n",
       "    <tr>\n",
       "      <th>17445</th>\n",
       "      <td>English Bulldog/Australian Cattle Dog</td>\n",
       "      <td>(2.5, 5.0]</td>\n",
       "      <td>1</td>\n",
       "      <td>1</td>\n",
       "      <td>1</td>\n",
       "      <td>1</td>\n",
       "      <td>1.0</td>\n",
       "    </tr>\n",
       "    <tr>\n",
       "      <th>17593</th>\n",
       "      <td>Pit Bull/Rhod Ridgeback</td>\n",
       "      <td>(-0.025, 2.5]</td>\n",
       "      <td>1</td>\n",
       "      <td>1</td>\n",
       "      <td>1</td>\n",
       "      <td>1</td>\n",
       "      <td>1.0</td>\n",
       "    </tr>\n",
       "    <tr>\n",
       "      <th>18612</th>\n",
       "      <td>Chihuahua Longhair/Cavalier Span</td>\n",
       "      <td>(2.5, 5.0]</td>\n",
       "      <td>1</td>\n",
       "      <td>1</td>\n",
       "      <td>1</td>\n",
       "      <td>1</td>\n",
       "      <td>1.0</td>\n",
       "    </tr>\n",
       "    <tr>\n",
       "      <th>19751</th>\n",
       "      <td>Soft Coated Wheaten Terrier/Boxer</td>\n",
       "      <td>(-0.025, 2.5]</td>\n",
       "      <td>1</td>\n",
       "      <td>1</td>\n",
       "      <td>1</td>\n",
       "      <td>1</td>\n",
       "      <td>1.0</td>\n",
       "    </tr>\n",
       "    <tr>\n",
       "      <th>19770</th>\n",
       "      <td>Mastiff/Plott Hound</td>\n",
       "      <td>(7.5, 10.0]</td>\n",
       "      <td>1</td>\n",
       "      <td>1</td>\n",
       "      <td>1</td>\n",
       "      <td>1</td>\n",
       "      <td>1.0</td>\n",
       "    </tr>\n",
       "    <tr>\n",
       "      <th>19862</th>\n",
       "      <td>Dachshund/Wire Hair Fox Terrier</td>\n",
       "      <td>(2.5, 5.0]</td>\n",
       "      <td>1</td>\n",
       "      <td>1</td>\n",
       "      <td>1</td>\n",
       "      <td>1</td>\n",
       "      <td>1.0</td>\n",
       "    </tr>\n",
       "    <tr>\n",
       "      <th>20867</th>\n",
       "      <td>St. Bernard Rough Coat/Great Pyrenees</td>\n",
       "      <td>(2.5, 5.0]</td>\n",
       "      <td>1</td>\n",
       "      <td>1</td>\n",
       "      <td>1</td>\n",
       "      <td>1</td>\n",
       "      <td>1.0</td>\n",
       "    </tr>\n",
       "    <tr>\n",
       "      <th>21639</th>\n",
       "      <td>Beagle/Catahoula</td>\n",
       "      <td>(7.5, 10.0]</td>\n",
       "      <td>1</td>\n",
       "      <td>1</td>\n",
       "      <td>1</td>\n",
       "      <td>1</td>\n",
       "      <td>1.0</td>\n",
       "    </tr>\n",
       "  </tbody>\n",
       "</table>\n",
       "</div>"
      ],
      "text/plain": [
       "                                            breed age_upon_intake_age_group  \\\n",
       "8918            Queensland Heeler/German Shepherd              (12.5, 15.0]   \n",
       "9198                             Bulldog/Pit Bull                (2.5, 5.0]   \n",
       "9546                         Rottweiler/Chow Chow              (10.0, 12.5]   \n",
       "9791                   Boxer/Jack Russell Terrier             (-0.025, 2.5]   \n",
       "10991    Miniature Pinscher/Australian Cattle Dog             (-0.025, 2.5]   \n",
       "11071            Chow Chow/English Cocker Spaniel                (2.5, 5.0]   \n",
       "11107                         Canaan Dog/Pit Bull             (-0.025, 2.5]   \n",
       "11112            Pit Bull/St. Bernard Smooth Coat             (-0.025, 2.5]   \n",
       "11123           Plott Hound/Australian Cattle Dog             (-0.025, 2.5]   \n",
       "11157                           Pit Bull/Pit Bull             (-0.025, 2.5]   \n",
       "11796                     Great Pyrenees/Pit Bull             (-0.025, 2.5]   \n",
       "11816               Siberian Husky/Great Pyrenees              (10.0, 12.5]   \n",
       "12000                              Akita/Pit Bull             (-0.025, 2.5]   \n",
       "12047          Cavalier Span/Jack Russell Terrier                (2.5, 5.0]   \n",
       "12118                     Boxer/Queensland Heeler             (-0.025, 2.5]   \n",
       "12406                      American Bulldog/Boxer                (2.5, 5.0]   \n",
       "12662    Queensland Heeler/Parson Russell Terrier             (-0.025, 2.5]   \n",
       "12789                  Greyhound/Airedale Terrier                (5.0, 7.5]   \n",
       "12812           Standard Schnauzer/Border Terrier               (7.5, 10.0]   \n",
       "13391  American Staffordshire Terrier/Plott Hound             (-0.025, 2.5]   \n",
       "13813                     Boxer/Dogue De Bordeaux             (-0.025, 2.5]   \n",
       "14323     Jack Russell Terrier/Chihuahua Longhair             (-0.025, 2.5]   \n",
       "16152            Belgian Tervuren/German Shepherd              (10.0, 12.5]   \n",
       "16678             English Springer Spaniel/Beagle               (7.5, 10.0]   \n",
       "16873                     Great Pyrenees/Pit Bull               (7.5, 10.0]   \n",
       "17176                      American Bulldog/Boxer             (-0.025, 2.5]   \n",
       "17312                           American Foxhound             (-0.025, 2.5]   \n",
       "17445       English Bulldog/Australian Cattle Dog                (2.5, 5.0]   \n",
       "17593                     Pit Bull/Rhod Ridgeback             (-0.025, 2.5]   \n",
       "18612            Chihuahua Longhair/Cavalier Span                (2.5, 5.0]   \n",
       "19751           Soft Coated Wheaten Terrier/Boxer             (-0.025, 2.5]   \n",
       "19770                         Mastiff/Plott Hound               (7.5, 10.0]   \n",
       "19862             Dachshund/Wire Hair Fox Terrier                (2.5, 5.0]   \n",
       "20867       St. Bernard Rough Coat/Great Pyrenees                (2.5, 5.0]   \n",
       "21639                            Beagle/Catahoula               (7.5, 10.0]   \n",
       "\n",
       "       count  outcome_type  breed_freq  euth_freq  euth_rate  \n",
       "8918       1             1           1          1        1.0  \n",
       "9198       1             1           1          1        1.0  \n",
       "9546       1             1           1          1        1.0  \n",
       "9791       1             1           1          1        1.0  \n",
       "10991      1             1           1          1        1.0  \n",
       "11071      1             1           1          1        1.0  \n",
       "11107      1             1           1          1        1.0  \n",
       "11112      1             1           1          1        1.0  \n",
       "11123      1             1           1          1        1.0  \n",
       "11157      1             1           1          1        1.0  \n",
       "11796      1             1           2          2        1.0  \n",
       "11816      1             1           1          1        1.0  \n",
       "12000      1             1           1          1        1.0  \n",
       "12047      1             1           1          1        1.0  \n",
       "12118      1             1           1          1        1.0  \n",
       "12406      1             1           2          2        1.0  \n",
       "12662      1             1           1          1        1.0  \n",
       "12789      1             1           1          1        1.0  \n",
       "12812      1             1           1          1        1.0  \n",
       "13391      1             1           1          1        1.0  \n",
       "13813      1             1           1          1        1.0  \n",
       "14323      1             1           1          1        1.0  \n",
       "16152      1             1           1          1        1.0  \n",
       "16678      1             1           1          1        1.0  \n",
       "16873      1             1           2          2        1.0  \n",
       "17176      1             1           2          2        1.0  \n",
       "17312      1             1           1          1        1.0  \n",
       "17445      1             1           1          1        1.0  \n",
       "17593      1             1           1          1        1.0  \n",
       "18612      1             1           1          1        1.0  \n",
       "19751      1             1           1          1        1.0  \n",
       "19770      1             1           1          1        1.0  \n",
       "19862      1             1           1          1        1.0  \n",
       "20867      1             1           1          1        1.0  \n",
       "21639      1             1           1          1        1.0  "
      ]
     },
     "execution_count": 47,
     "metadata": {},
     "output_type": "execute_result"
    }
   ],
   "source": [
    "x_ef[x_ef.euth_rate == 1.0]"
   ]
  },
  {
   "cell_type": "markdown",
   "id": "7423a123",
   "metadata": {},
   "source": [
    "### The Rest of The Features:\n",
    "X is the new feature dataframe."
   ]
  },
  {
   "cell_type": "code",
   "execution_count": 33,
   "id": "3ab4fe08",
   "metadata": {},
   "outputs": [
    {
     "name": "stdout",
     "output_type": "stream",
     "text": [
      "<class 'pandas.core.frame.DataFrame'>\n",
      "RangeIndex: 21989 entries, 0 to 21988\n",
      "Data columns (total 4 columns):\n",
      " #   Column           Non-Null Count  Dtype  \n",
      "---  ------           --------------  -----  \n",
      " 0   breed_euth_rate  21989 non-null  float64\n",
      " 1   age(days)        21989 non-null  int64  \n",
      " 2   time_in_shelt    21989 non-null  float64\n",
      " 3   condition        21989 non-null  object \n",
      "dtypes: float64(2), int64(1), object(1)\n",
      "memory usage: 687.3+ KB\n"
     ]
    }
   ],
   "source": [
    "X = pd.DataFrame()\n",
    "X['breed_euth_rate'] = x_ef['euth_rate']\n",
    "X['age(days)'] = df['age_upon_intake_(days)']\n",
    "X['time_in_shelt'] = df['time_in_shelter_days']\n",
    "X['condition'] = df['intake_condition']\n",
    "X.info()"
   ]
  },
  {
   "cell_type": "code",
   "execution_count": 34,
   "id": "523b9204",
   "metadata": {
    "collapsed": true
   },
   "outputs": [
    {
     "name": "stdout",
     "output_type": "stream",
     "text": [
      "<class 'pandas.core.frame.DataFrame'>\n",
      "RangeIndex: 21989 entries, 0 to 21988\n",
      "Data columns (total 11 columns):\n",
      " #   Column           Non-Null Count  Dtype  \n",
      "---  ------           --------------  -----  \n",
      " 0   breed_euth_rate  21989 non-null  float64\n",
      " 1   age(days)        21989 non-null  int64  \n",
      " 2   time_in_shelt    21989 non-null  float64\n",
      " 3   condition        21989 non-null  object \n",
      " 4   Feral            21989 non-null  uint8  \n",
      " 5   Injured          21989 non-null  uint8  \n",
      " 6   Normal           21989 non-null  uint8  \n",
      " 7   Nursing          21989 non-null  uint8  \n",
      " 8   Other            21989 non-null  uint8  \n",
      " 9   Pregnant         21989 non-null  uint8  \n",
      " 10  Sick             21989 non-null  uint8  \n",
      "dtypes: float64(2), int64(1), object(1), uint8(7)\n",
      "memory usage: 837.6+ KB\n"
     ]
    }
   ],
   "source": [
    "#need dummy variables for categorical condition\n",
    "X = pd.concat([X,\n",
    "               pd.get_dummies(X['condition'], drop_first = True)],\n",
    "              axis = 1)\n",
    "X.info()"
   ]
  },
  {
   "cell_type": "code",
   "execution_count": 35,
   "id": "0ee2a7ff",
   "metadata": {},
   "outputs": [
    {
     "name": "stdout",
     "output_type": "stream",
     "text": [
      "<class 'pandas.core.frame.DataFrame'>\n",
      "RangeIndex: 21989 entries, 0 to 21988\n",
      "Data columns (total 10 columns):\n",
      " #   Column           Non-Null Count  Dtype  \n",
      "---  ------           --------------  -----  \n",
      " 0   breed_euth_rate  21989 non-null  float64\n",
      " 1   age(days)        21989 non-null  int64  \n",
      " 2   time_in_shelt    21989 non-null  float64\n",
      " 3   Feral            21989 non-null  uint8  \n",
      " 4   Injured          21989 non-null  uint8  \n",
      " 5   Normal           21989 non-null  uint8  \n",
      " 6   Nursing          21989 non-null  uint8  \n",
      " 7   Other            21989 non-null  uint8  \n",
      " 8   Pregnant         21989 non-null  uint8  \n",
      " 9   Sick             21989 non-null  uint8  \n",
      "dtypes: float64(2), int64(1), uint8(7)\n",
      "memory usage: 665.8 KB\n"
     ]
    }
   ],
   "source": [
    "X.drop('condition',axis=1,inplace=True)\n",
    "X.info()"
   ]
  },
  {
   "cell_type": "markdown",
   "id": "43bbad5f",
   "metadata": {},
   "source": [
    "## Scaler transform\n",
    "In order to correct error from different scaled features, standard scaler applied."
   ]
  },
  {
   "cell_type": "code",
   "execution_count": 36,
   "id": "4b5c44d6",
   "metadata": {},
   "outputs": [],
   "source": [
    "from sklearn import preprocessing\n",
    "import numpy as np\n",
    "\n",
    "scaler = preprocessing.StandardScaler().fit(X)\n",
    "\n",
    "X_scaled = scaler.transform(X)"
   ]
  },
  {
   "cell_type": "markdown",
   "id": "4bafdf88",
   "metadata": {},
   "source": [
    "## LogReg model Fit/Assessment"
   ]
  },
  {
   "cell_type": "code",
   "execution_count": 37,
   "id": "a1e1da3c",
   "metadata": {},
   "outputs": [
    {
     "data": {
      "text/plain": [
       "LogisticRegression()"
      ]
     },
     "execution_count": 37,
     "metadata": {},
     "output_type": "execute_result"
    }
   ],
   "source": [
    "from sklearn.linear_model import LogisticRegression\n",
    "\n",
    "logreg_scale = LogisticRegression()\n",
    "\n",
    "logreg_scale.fit(X_scaled, y)"
   ]
  },
  {
   "cell_type": "code",
   "execution_count": 38,
   "id": "f3033021",
   "metadata": {},
   "outputs": [
    {
     "data": {
      "text/plain": [
       "0.9438355541407067"
      ]
     },
     "execution_count": 38,
     "metadata": {},
     "output_type": "execute_result"
    }
   ],
   "source": [
    "logreg_scale.score(X_scaled, y)"
   ]
  },
  {
   "cell_type": "code",
   "execution_count": 39,
   "id": "ad76e6df",
   "metadata": {},
   "outputs": [
    {
     "data": {
      "text/plain": [
       "array([[  334,  1077],\n",
       "       [  158, 20420]])"
      ]
     },
     "execution_count": 39,
     "metadata": {},
     "output_type": "execute_result"
    }
   ],
   "source": [
    "from sklearn.metrics import confusion_matrix\n",
    "\n",
    "y_pred_sc = logreg_scale.predict(X_scaled)\n",
    "confusion_matrix(y,y_pred_sc)"
   ]
  },
  {
   "cell_type": "code",
   "execution_count": 48,
   "id": "4e37fa82",
   "metadata": {},
   "outputs": [
    {
     "name": "stdout",
     "output_type": "stream",
     "text": [
      "F1: 0.9706476530005942\n"
     ]
    }
   ],
   "source": [
    "print(f\"F1: {f1_score(y, y_pred_sc)}\")"
   ]
  },
  {
   "cell_type": "markdown",
   "id": "77631a2e",
   "metadata": {},
   "source": [
    "### Save DataFrame"
   ]
  },
  {
   "cell_type": "code",
   "execution_count": 40,
   "id": "cb641393",
   "metadata": {},
   "outputs": [],
   "source": [
    "import pickle\n",
    "\n",
    "with open('shelter_dogs_scaler.pickle','wb') as f:\n",
    "    pickle.dump(X_scaled, f)\n",
    "\n",
    "with open('shelter_dogs.pickle','wb') as f:\n",
    "    pickle.dump(X, f)"
   ]
  },
  {
   "cell_type": "code",
   "execution_count": 41,
   "id": "0fd9a054",
   "metadata": {},
   "outputs": [],
   "source": [
    "with open('shelter_dogs_y.pickle','wb') as f:\n",
    "    pickle.dump(y, f)"
   ]
  },
  {
   "cell_type": "code",
   "execution_count": null,
   "id": "57e1c506",
   "metadata": {},
   "outputs": [],
   "source": []
  }
 ],
 "metadata": {
  "kernelspec": {
   "display_name": "Python 3(metis)",
   "language": "python",
   "name": "metis"
  },
  "language_info": {
   "codemirror_mode": {
    "name": "ipython",
    "version": 3
   },
   "file_extension": ".py",
   "mimetype": "text/x-python",
   "name": "python",
   "nbconvert_exporter": "python",
   "pygments_lexer": "ipython3",
   "version": "3.9.7"
  }
 },
 "nbformat": 4,
 "nbformat_minor": 5
}
