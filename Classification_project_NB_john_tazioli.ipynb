{
 "cells": [
  {
   "cell_type": "markdown",
   "id": "9b548ba4",
   "metadata": {},
   "source": [
    "# Naive Bayes Model for Animal Outcome Prediction\n",
    "Metis-Classification_Project\n",
    "14JUN2022\n",
    "John Tazioli"
   ]
  },
  {
   "cell_type": "code",
   "execution_count": 1,
   "id": "30c121a2",
   "metadata": {},
   "outputs": [],
   "source": [
    "import pandas as pd\n",
    "import numpy as np"
   ]
  },
  {
   "cell_type": "code",
   "execution_count": 2,
   "id": "8f8c85a9",
   "metadata": {},
   "outputs": [],
   "source": [
    "#load datasets from logistic regression MVP\n",
    "import pickle\n",
    "\n",
    "with open('shelter_dogs.pickle','rb') as g:\n",
    "    x = pickle.load(g)\n",
    "    \n",
    "with open('shelter_dogs_y.pickle', 'rb') as g:\n",
    "    y = pickle.load(g)"
   ]
  },
  {
   "cell_type": "code",
   "execution_count": 3,
   "id": "231fe8ff",
   "metadata": {},
   "outputs": [
    {
     "name": "stdout",
     "output_type": "stream",
     "text": [
      "<class 'pandas.core.frame.DataFrame'>\n",
      "RangeIndex: 21989 entries, 0 to 21988\n",
      "Data columns (total 10 columns):\n",
      " #   Column           Non-Null Count  Dtype  \n",
      "---  ------           --------------  -----  \n",
      " 0   breed_euth_rate  21989 non-null  float64\n",
      " 1   age(days)        21989 non-null  int64  \n",
      " 2   time_in_shelt    21989 non-null  float64\n",
      " 3   Feral            21989 non-null  uint8  \n",
      " 4   Injured          21989 non-null  uint8  \n",
      " 5   Normal           21989 non-null  uint8  \n",
      " 6   Nursing          21989 non-null  uint8  \n",
      " 7   Other            21989 non-null  uint8  \n",
      " 8   Pregnant         21989 non-null  uint8  \n",
      " 9   Sick             21989 non-null  uint8  \n",
      "dtypes: float64(2), int64(1), uint8(7)\n",
      "memory usage: 665.8 KB\n"
     ]
    }
   ],
   "source": [
    "x.info()"
   ]
  },
  {
   "cell_type": "code",
   "execution_count": 4,
   "id": "5f4756d5",
   "metadata": {},
   "outputs": [
    {
     "data": {
      "text/plain": [
       "0    1\n",
       "1    1\n",
       "2    1\n",
       "3    1\n",
       "4    1\n",
       "5    1\n",
       "6    1\n",
       "7    1\n",
       "8    1\n",
       "9    1\n",
       "Name: outcome_type, dtype: int64"
      ]
     },
     "execution_count": 4,
     "metadata": {},
     "output_type": "execute_result"
    }
   ],
   "source": [
    "#remap adoption as 1 and euthanasia as 0\n",
    "y = y.map({'Euthanasia':0, 'Adoption':1})\n",
    "y[0:10]"
   ]
  },
  {
   "cell_type": "markdown",
   "id": "540a7ab9",
   "metadata": {},
   "source": [
    "## Train/Test split\n",
    "70/30 split for train and test"
   ]
  },
  {
   "cell_type": "code",
   "execution_count": 5,
   "id": "f6765b43",
   "metadata": {},
   "outputs": [],
   "source": [
    "from sklearn.model_selection import train_test_split\n",
    "\n",
    "x_train, x_test, y_train, y_test = train_test_split(x, y, test_size=.3, random_state=10)"
   ]
  },
  {
   "cell_type": "markdown",
   "id": "348bca59",
   "metadata": {},
   "source": [
    "## Resampling:\n",
    "Euthanasia currently represents 6.4% of the observations. 80%/20% split or lower often causes problems. I will oversample the euthanasia observations at a ratio of 6:1 to make it 29% (6138/20507)."
   ]
  },
  {
   "cell_type": "code",
   "execution_count": 6,
   "id": "ac6ecaa6",
   "metadata": {},
   "outputs": [],
   "source": [
    "from imblearn.over_sampling import RandomOverSampler\n",
    "\n",
    "n_pos = np.sum(y_train == 1)\n",
    "n_neg = np.sum(y_train == 0)\n",
    "\n",
    "ratio = {1:n_pos, 0:n_neg*6}\n",
    "\n",
    "ROS = RandomOverSampler(sampling_strategy = ratio, random_state=10)\n",
    "\n",
    "x_tr_rs, y_tr_rs = ROS.fit_resample(x_train, y_train)"
   ]
  },
  {
   "cell_type": "code",
   "execution_count": 7,
   "id": "43c8217a",
   "metadata": {},
   "outputs": [
    {
     "name": "stdout",
     "output_type": "stream",
     "text": [
      "<class 'pandas.core.frame.DataFrame'>\n",
      "RangeIndex: 20507 entries, 0 to 20506\n",
      "Data columns (total 10 columns):\n",
      " #   Column           Non-Null Count  Dtype  \n",
      "---  ------           --------------  -----  \n",
      " 0   breed_euth_rate  20507 non-null  float64\n",
      " 1   age(days)        20507 non-null  int64  \n",
      " 2   time_in_shelt    20507 non-null  float64\n",
      " 3   Feral            20507 non-null  uint8  \n",
      " 4   Injured          20507 non-null  uint8  \n",
      " 5   Normal           20507 non-null  uint8  \n",
      " 6   Nursing          20507 non-null  uint8  \n",
      " 7   Other            20507 non-null  uint8  \n",
      " 8   Pregnant         20507 non-null  uint8  \n",
      " 9   Sick             20507 non-null  uint8  \n",
      "dtypes: float64(2), int64(1), uint8(7)\n",
      "memory usage: 620.9 KB\n"
     ]
    }
   ],
   "source": [
    "x_tr_rs.info()"
   ]
  },
  {
   "cell_type": "code",
   "execution_count": 8,
   "id": "f2108cc3",
   "metadata": {},
   "outputs": [
    {
     "data": {
      "text/plain": [
       "1    14369\n",
       "0     6138\n",
       "Name: outcome_type, dtype: int64"
      ]
     },
     "execution_count": 8,
     "metadata": {},
     "output_type": "execute_result"
    }
   ],
   "source": [
    "y_tr_rs.value_counts()"
   ]
  },
  {
   "cell_type": "markdown",
   "id": "cea62881",
   "metadata": {},
   "source": [
    "## Naive Bayes Models:\n",
    "Bernoulli NB for categorical condition dummy variables and Gaussian NB for breed euth rate, age, and time in shelter "
   ]
  },
  {
   "cell_type": "code",
   "execution_count": 9,
   "id": "72a1f2e5",
   "metadata": {},
   "outputs": [],
   "source": [
    "#split features into 2 dataframes\n",
    "x_tr_gaus = x_tr_rs.iloc[:,0:3]\n",
    "x_tr_bern = x_tr_rs.iloc[:,3:]\n",
    "\n",
    "x_tst_g = x_test.iloc[:,0:3]\n",
    "x_tst_b = x_test.iloc[:,3:] "
   ]
  },
  {
   "cell_type": "markdown",
   "id": "db558d4c",
   "metadata": {},
   "source": [
    "### Gaussian NB"
   ]
  },
  {
   "cell_type": "code",
   "execution_count": 10,
   "id": "f1701d9c",
   "metadata": {},
   "outputs": [],
   "source": [
    "from sklearn.naive_bayes import GaussianNB\n",
    "\n",
    "g_nb = GaussianNB()\n",
    "\n",
    "g_nb.fit(x_tr_gaus, y_tr_rs)\n",
    "\n",
    "y_g_pred = g_nb.predict(x_tst_g)\n",
    "\n",
    "y_g_pred = pd.Series(y_g_pred)"
   ]
  },
  {
   "cell_type": "code",
   "execution_count": 12,
   "id": "6c2fa191",
   "metadata": {},
   "outputs": [
    {
     "name": "stdout",
     "output_type": "stream",
     "text": [
      "F1: 0.9461087593617714\n"
     ]
    }
   ],
   "source": [
    "from sklearn.metrics import f1_score\n",
    "\n",
    "print(f\"F1: {f1_score(y_test, y_g_pred)}\")"
   ]
  },
  {
   "cell_type": "markdown",
   "id": "f0c5b50f",
   "metadata": {},
   "source": [
    "### Bernoulli NB"
   ]
  },
  {
   "cell_type": "code",
   "execution_count": 13,
   "id": "a34a7aa8",
   "metadata": {
    "scrolled": true
   },
   "outputs": [],
   "source": [
    "from sklearn.naive_bayes import BernoulliNB\n",
    "\n",
    "b_nb = BernoulliNB()\n",
    "\n",
    "b_nb.fit(x_tr_bern, y_tr_rs)\n",
    "\n",
    "y_b_pred = b_nb.predict(x_tst_b)"
   ]
  },
  {
   "cell_type": "code",
   "execution_count": 14,
   "id": "3000d3d5",
   "metadata": {},
   "outputs": [
    {
     "name": "stdout",
     "output_type": "stream",
     "text": [
      "F1: 0.9503419081732334\n"
     ]
    }
   ],
   "source": [
    "print(f\"F1: {f1_score(y_test, y_b_pred)}\")"
   ]
  },
  {
   "cell_type": "markdown",
   "id": "d066b941",
   "metadata": {},
   "source": [
    "## Ensemble with Voting Classifier"
   ]
  },
  {
   "cell_type": "code",
   "execution_count": 16,
   "id": "8849e008",
   "metadata": {},
   "outputs": [],
   "source": [
    "from sklearn.ensemble import VotingClassifier\n",
    "\n",
    "model_list = [('gnb',g_nb),\n",
    "             ('bnb',b_nb)]\n",
    "\n",
    "vc = VotingClassifier(estimators = model_list,\n",
    "                     voting = 'hard',\n",
    "                     weights = None)\n",
    "\n",
    "vc.fit(x_test,y_test)\n",
    "\n",
    "vc_y_pred = vc.predict(x_test)"
   ]
  },
  {
   "cell_type": "code",
   "execution_count": 17,
   "id": "80d226b9",
   "metadata": {},
   "outputs": [
    {
     "name": "stdout",
     "output_type": "stream",
     "text": [
      "F1: 0.9545602605863192\n"
     ]
    }
   ],
   "source": [
    "print(f\"F1: {f1_score(y_test, vc_y_pred)}\")"
   ]
  },
  {
   "cell_type": "code",
   "execution_count": null,
   "id": "653f2879",
   "metadata": {},
   "outputs": [],
   "source": []
  }
 ],
 "metadata": {
  "kernelspec": {
   "display_name": "Python 3(metis)",
   "language": "python",
   "name": "metis"
  },
  "language_info": {
   "codemirror_mode": {
    "name": "ipython",
    "version": 3
   },
   "file_extension": ".py",
   "mimetype": "text/x-python",
   "name": "python",
   "nbconvert_exporter": "python",
   "pygments_lexer": "ipython3",
   "version": "3.9.7"
  }
 },
 "nbformat": 4,
 "nbformat_minor": 5
}
