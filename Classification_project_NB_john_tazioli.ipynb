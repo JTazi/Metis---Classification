{
 "cells": [
  {
   "cell_type": "markdown",
   "id": "9b548ba4",
   "metadata": {},
   "source": [
    "# Naive Bayes Model for Animal Outcome Prediction\n",
    "Metis-Classification_Project\n",
    "14JUN2022\n",
    "John Tazioli"
   ]
  },
  {
   "cell_type": "code",
   "execution_count": 1,
   "id": "30c121a2",
   "metadata": {},
   "outputs": [],
   "source": [
    "import pandas as pd\n",
    "import numpy as np"
   ]
  },
  {
   "cell_type": "code",
   "execution_count": 2,
   "id": "8f8c85a9",
   "metadata": {},
   "outputs": [],
   "source": [
    "#load datasets from logistic regression MVP\n",
    "import pickle\n",
    "\n",
    "with open('shelter_dogs.pickle','rb') as g:\n",
    "    x = pickle.load(g)\n",
    "    \n",
    "with open('shelter_dogs_y.pickle', 'rb') as g:\n",
    "    y = pickle.load(g)"
   ]
  },
  {
   "cell_type": "code",
   "execution_count": 3,
   "id": "231fe8ff",
   "metadata": {},
   "outputs": [
    {
     "name": "stdout",
     "output_type": "stream",
     "text": [
      "<class 'pandas.core.frame.DataFrame'>\n",
      "RangeIndex: 21989 entries, 0 to 21988\n",
      "Data columns (total 10 columns):\n",
      " #   Column           Non-Null Count  Dtype  \n",
      "---  ------           --------------  -----  \n",
      " 0   breed_euth_rate  21989 non-null  float64\n",
      " 1   age(days)        21989 non-null  int64  \n",
      " 2   time_in_shelt    21989 non-null  float64\n",
      " 3   Feral            21989 non-null  uint8  \n",
      " 4   Injured          21989 non-null  uint8  \n",
      " 5   Normal           21989 non-null  uint8  \n",
      " 6   Nursing          21989 non-null  uint8  \n",
      " 7   Other            21989 non-null  uint8  \n",
      " 8   Pregnant         21989 non-null  uint8  \n",
      " 9   Sick             21989 non-null  uint8  \n",
      "dtypes: float64(2), int64(1), uint8(7)\n",
      "memory usage: 665.8 KB\n"
     ]
    }
   ],
   "source": [
    "x.info()"
   ]
  },
  {
   "cell_type": "code",
   "execution_count": 4,
   "id": "5f4756d5",
   "metadata": {},
   "outputs": [],
   "source": [
    "#remap adoption as 1 and euthanasia as 0\n",
    "#y = y.map({'Euthanasia':0, 'Adoption':1})\n",
    "#y[0:10]"
   ]
  },
  {
   "cell_type": "markdown",
   "id": "540a7ab9",
   "metadata": {},
   "source": [
    "## Train/Test split\n",
    "70/30 split for train and test"
   ]
  },
  {
   "cell_type": "code",
   "execution_count": 5,
   "id": "f6765b43",
   "metadata": {},
   "outputs": [],
   "source": [
    "from sklearn.model_selection import train_test_split\n",
    "\n",
    "x_train, x_test, y_train, y_test = train_test_split(x, y, test_size=.3, random_state=10)"
   ]
  },
  {
   "cell_type": "markdown",
   "id": "348bca59",
   "metadata": {},
   "source": [
    "## Oversampling:\n",
    "Euthanasia currently represents 6.4% of the observations. 80%/20% split or lower often causes problems. I will oversample the euthanasia observations at a ratio of 6:1 to make it 29% (6138/20507)."
   ]
  },
  {
   "cell_type": "code",
   "execution_count": 6,
   "id": "ac6ecaa6",
   "metadata": {},
   "outputs": [],
   "source": [
    "from imblearn.over_sampling import RandomOverSampler\n",
    "\n",
    "n_pos = np.sum(y_train == 1)\n",
    "n_neg = np.sum(y_train == 0)\n",
    "\n",
    "ratio = {1:n_pos, 0:n_neg*6}\n",
    "\n",
    "ROS = RandomOverSampler(sampling_strategy = ratio, random_state=10)\n",
    "\n",
    "x_tr_rs, y_tr_rs = ROS.fit_resample(x_train, y_train)"
   ]
  },
  {
   "cell_type": "code",
   "execution_count": 7,
   "id": "43c8217a",
   "metadata": {},
   "outputs": [
    {
     "name": "stdout",
     "output_type": "stream",
     "text": [
      "<class 'pandas.core.frame.DataFrame'>\n",
      "RangeIndex: 20507 entries, 0 to 20506\n",
      "Data columns (total 10 columns):\n",
      " #   Column           Non-Null Count  Dtype  \n",
      "---  ------           --------------  -----  \n",
      " 0   breed_euth_rate  20507 non-null  float64\n",
      " 1   age(days)        20507 non-null  int64  \n",
      " 2   time_in_shelt    20507 non-null  float64\n",
      " 3   Feral            20507 non-null  uint8  \n",
      " 4   Injured          20507 non-null  uint8  \n",
      " 5   Normal           20507 non-null  uint8  \n",
      " 6   Nursing          20507 non-null  uint8  \n",
      " 7   Other            20507 non-null  uint8  \n",
      " 8   Pregnant         20507 non-null  uint8  \n",
      " 9   Sick             20507 non-null  uint8  \n",
      "dtypes: float64(2), int64(1), uint8(7)\n",
      "memory usage: 620.9 KB\n"
     ]
    }
   ],
   "source": [
    "x_tr_rs.info()"
   ]
  },
  {
   "cell_type": "code",
   "execution_count": 8,
   "id": "f2108cc3",
   "metadata": {},
   "outputs": [
    {
     "data": {
      "text/plain": [
       "1    14369\n",
       "0     6138\n",
       "Name: outcome_type, dtype: int64"
      ]
     },
     "execution_count": 8,
     "metadata": {},
     "output_type": "execute_result"
    }
   ],
   "source": [
    "y_tr_rs.value_counts()"
   ]
  },
  {
   "cell_type": "markdown",
   "id": "cea62881",
   "metadata": {},
   "source": [
    "## Naive Bayes Models:\n",
    "Bernoulli NB for categorical condition dummy variables and Gaussian NB for breed euth rate, age, and time in shelter "
   ]
  },
  {
   "cell_type": "code",
   "execution_count": 9,
   "id": "72a1f2e5",
   "metadata": {},
   "outputs": [],
   "source": [
    "#split features into 2 dataframes\n",
    "x_tr_gaus = x_tr_rs.iloc[:,0:3]\n",
    "x_tr_bern = x_tr_rs.iloc[:,3:]\n",
    "\n",
    "x_tst_g = x_test.iloc[:,0:3]\n",
    "x_tst_b = x_test.iloc[:,3:] "
   ]
  },
  {
   "cell_type": "markdown",
   "id": "db558d4c",
   "metadata": {},
   "source": [
    "### Gaussian NB"
   ]
  },
  {
   "cell_type": "code",
   "execution_count": 10,
   "id": "f1701d9c",
   "metadata": {},
   "outputs": [],
   "source": [
    "from sklearn.naive_bayes import GaussianNB\n",
    "\n",
    "g_nb = GaussianNB()\n",
    "\n",
    "g_nb.fit(x_tr_gaus, y_tr_rs)\n",
    "\n",
    "y_g_pred = g_nb.predict(x_tst_g)\n",
    "\n",
    "y_g_pred = pd.Series(y_g_pred)"
   ]
  },
  {
   "cell_type": "code",
   "execution_count": 11,
   "id": "6c2fa191",
   "metadata": {},
   "outputs": [
    {
     "name": "stdout",
     "output_type": "stream",
     "text": [
      "F1: 0.9461087593617714\n"
     ]
    }
   ],
   "source": [
    "from sklearn.metrics import f1_score\n",
    "\n",
    "print(f\"F1: {f1_score(y_test, y_g_pred)}\")"
   ]
  },
  {
   "cell_type": "code",
   "execution_count": 13,
   "id": "7989d8d2",
   "metadata": {},
   "outputs": [
    {
     "data": {
      "text/plain": [
       "array([[ 124,  264],\n",
       "       [ 398, 5811]])"
      ]
     },
     "execution_count": 13,
     "metadata": {},
     "output_type": "execute_result"
    }
   ],
   "source": [
    "from sklearn.metrics import confusion_matrix\n",
    "\n",
    "confusion_matrix(y_test,y_g_pred)"
   ]
  },
  {
   "cell_type": "code",
   "execution_count": 26,
   "id": "3c4829c4",
   "metadata": {},
   "outputs": [
    {
     "name": "stdout",
     "output_type": "stream",
     "text": [
      "[[1.37559949e-01 1.41068019e+03 1.41475580e+01]\n",
      " [5.87998124e-02 7.02135918e+02 2.47642061e+01]]\n"
     ]
    }
   ],
   "source": [
    "print(g_nb.theta_)"
   ]
  },
  {
   "cell_type": "markdown",
   "id": "bf133abb",
   "metadata": {},
   "source": [
    "Euthanized dogs: 1410 days old on average, 14 days in shelter\n",
    "Adopted dogs: 702 days old on average, 24 days in shelter"
   ]
  },
  {
   "cell_type": "markdown",
   "id": "f0c5b50f",
   "metadata": {},
   "source": [
    "### Bernoulli NB"
   ]
  },
  {
   "cell_type": "code",
   "execution_count": 15,
   "id": "a34a7aa8",
   "metadata": {
    "scrolled": true
   },
   "outputs": [],
   "source": [
    "from sklearn.naive_bayes import BernoulliNB\n",
    "\n",
    "b_nb = BernoulliNB()\n",
    "\n",
    "b_nb.fit(x_tr_bern, y_tr_rs)\n",
    "\n",
    "y_b_pred = b_nb.predict(x_tst_b)"
   ]
  },
  {
   "cell_type": "code",
   "execution_count": 16,
   "id": "3000d3d5",
   "metadata": {},
   "outputs": [
    {
     "name": "stdout",
     "output_type": "stream",
     "text": [
      "F1: 0.9503419081732334\n"
     ]
    }
   ],
   "source": [
    "print(f\"F1: {f1_score(y_test, y_b_pred)}\")"
   ]
  },
  {
   "cell_type": "code",
   "execution_count": 17,
   "id": "349fb26a",
   "metadata": {},
   "outputs": [
    {
     "data": {
      "text/plain": [
       "array([[ 150,  238],\n",
       "       [ 372, 5837]])"
      ]
     },
     "execution_count": 17,
     "metadata": {},
     "output_type": "execute_result"
    }
   ],
   "source": [
    "confusion_matrix(y_test,y_b_pred)"
   ]
  },
  {
   "cell_type": "markdown",
   "id": "a434e455",
   "metadata": {},
   "source": [
    "feature_log_prob_ will return the log probability of each feature being 1 for the given class - 0=adoption, 1=euthanasia."
   ]
  },
  {
   "cell_type": "code",
   "execution_count": 33,
   "id": "0f4e4bff",
   "metadata": {},
   "outputs": [],
   "source": [
    "log_prob_bern = b_nb.feature_log_prob_\n",
    "adopt_prob_bern = []\n",
    "euth_prob_bern = []\n",
    "\n",
    "for each in log_prob_bern[0]:\n",
    "    adopt_prob_bern.append(np.exp(each))\n",
    "    \n",
    "for each in log_prob_bern[1]:\n",
    "    euth_prob_bern.append(np.exp(each))"
   ]
  },
  {
   "cell_type": "code",
   "execution_count": 34,
   "id": "e4c792dd",
   "metadata": {},
   "outputs": [
    {
     "name": "stdout",
     "output_type": "stream",
     "text": [
      "[0.0001628664495114005, 0.24201954397394118, 0.6368078175895762, 0.01140065146579804, 0.005863192182410418, 0.0001628664495114005, 0.09055374592833867]\n"
     ]
    }
   ],
   "source": [
    "print(adopt_prob_bern)"
   ]
  },
  {
   "cell_type": "code",
   "execution_count": 35,
   "id": "a0fb9f32",
   "metadata": {},
   "outputs": [
    {
     "name": "stdout",
     "output_type": "stream",
     "text": [
      "[0.00020875374017117787, 0.02679006332196785, 0.9470461345765776, 0.011342286549300671, 0.0014612761811982453, 0.0008350149606847116, 0.010507271588615958]\n"
     ]
    }
   ],
   "source": [
    "print(euth_prob_bern)"
   ]
  },
  {
   "cell_type": "markdown",
   "id": "858e14b6",
   "metadata": {},
   "source": [
    "94% of euthanized outcomes had a normal status, 2.6% had injured, Nursing and Sick at 1% each"
   ]
  },
  {
   "cell_type": "markdown",
   "id": "d066b941",
   "metadata": {},
   "source": [
    "## Ensemble with Voting Classifier"
   ]
  },
  {
   "cell_type": "code",
   "execution_count": 51,
   "id": "8849e008",
   "metadata": {},
   "outputs": [],
   "source": [
    "from sklearn.ensemble import VotingClassifier\n",
    "\n",
    "model_list = [('gnb',g_nb),\n",
    "             ('bnb',b_nb)]\n",
    "\n",
    "vc = VotingClassifier(estimators = model_list,\n",
    "                     voting = 'hard',\n",
    "                     weights = None)\n",
    "\n",
    "vc.fit(x_tr_rs,y_tr_rs)\n",
    "\n",
    "vc_y_pred = vc.predict(x_test)"
   ]
  },
  {
   "cell_type": "code",
   "execution_count": 52,
   "id": "80d226b9",
   "metadata": {},
   "outputs": [
    {
     "name": "stdout",
     "output_type": "stream",
     "text": [
      "F1: 0.9455592105263159\n"
     ]
    }
   ],
   "source": [
    "print(f\"F1: {f1_score(y_test, vc_y_pred)}\")"
   ]
  },
  {
   "cell_type": "code",
   "execution_count": 53,
   "id": "653f2879",
   "metadata": {},
   "outputs": [
    {
     "data": {
      "text/plain": [
       "array([[ 186,  202],\n",
       "       [ 460, 5749]])"
      ]
     },
     "execution_count": 53,
     "metadata": {},
     "output_type": "execute_result"
    }
   ],
   "source": [
    "confusion_matrix(y_test,vc_y_pred)"
   ]
  },
  {
   "cell_type": "code",
   "execution_count": 54,
   "id": "ae0ba75f",
   "metadata": {},
   "outputs": [],
   "source": [
    "vc_soft = VotingClassifier(estimators = model_list,\n",
    "                     voting = 'soft',\n",
    "                     weights = [1,1])\n",
    "\n",
    "vc_soft.fit(x_tr_rs,y_tr_rs)\n",
    "\n",
    "vc_soft_y_pred = vc_soft.predict(x_test)"
   ]
  },
  {
   "cell_type": "markdown",
   "id": "755b26a1",
   "metadata": {},
   "source": [
    "## Probability Bar Plot"
   ]
  },
  {
   "cell_type": "code",
   "execution_count": 55,
   "id": "2a16d4a6",
   "metadata": {},
   "outputs": [],
   "source": [
    "import matplotlib.pyplot as plt"
   ]
  },
  {
   "cell_type": "code",
   "execution_count": 58,
   "id": "295211eb",
   "metadata": {},
   "outputs": [],
   "source": [
    "prob = [c.fit(x_tr_rs,y_tr_rs).predict_proba(x_test) for c in (g_nb, b_nb, vc_soft)]"
   ]
  },
  {
   "cell_type": "code",
   "execution_count": 59,
   "id": "4777ef5d",
   "metadata": {},
   "outputs": [],
   "source": [
    "class0 = [pr[0,0] for pr in prob]\n",
    "class1 = [pr[0,1] for pr in prob]"
   ]
  },
  {
   "cell_type": "code",
   "execution_count": 65,
   "id": "398c2cea",
   "metadata": {},
   "outputs": [
    {
     "name": "stdout",
     "output_type": "stream",
     "text": [
      "[0.0031932613490641467, 0.19798551757975064, 0.10058938946440739]\n",
      "[0.9968067386509359, 0.8020144824202494, 0.8994106105355927]\n"
     ]
    }
   ],
   "source": [
    "print(class0)\n",
    "print(class1)"
   ]
  },
  {
   "cell_type": "code",
   "execution_count": 67,
   "id": "6579a99c",
   "metadata": {},
   "outputs": [
    {
     "data": {
      "image/png": "[encoded data removed]",
      "text/plain": [
       "<Figure size 432x288 with 1 Axes>"
      ]
     },
     "metadata": {
      "needs_background": "light"
     },
     "output_type": "display_data"
    }
   ],
   "source": [
    "n = 3\n",
    "ind = np.arange(n)\n",
    "width = 0.4\n",
    "\n",
    "fig, ax = plt.subplots()\n",
    "\n",
    "#bars for bern and gaussian nb\n",
    "p1 = ax.bar(ind, np.hstack(([class0[:-1], [0]])), width, color=\"green\", edgecolor=\"k\")\n",
    "p2 = ax.bar(\n",
    "    ind + width,\n",
    "    np.hstack(([class1[:-1], [0]])),\n",
    "    width,\n",
    "    color=\"lightgreen\",\n",
    "    edgecolor=\"k\",\n",
    ")\n",
    "\n",
    "# bars for VotingClassifier\n",
    "p3 = ax.bar(ind, [0, 0, class0[-1]], width, color=\"blue\", edgecolor=\"k\")\n",
    "p4 = ax.bar(\n",
    "    ind + width, [0, 0, class1[-1]], width, color=\"steelblue\", edgecolor=\"k\"\n",
    ")\n",
    "\n",
    "# plot annotations\n",
    "plt.axvline(1.7, color=\"k\", linestyle=\"dashed\")\n",
    "ax.set_xticks(ind + width)\n",
    "ax.set_xticklabels(\n",
    "    [\n",
    "        \"GaussianNB\",\n",
    "        \"BernoulliNB\",\n",
    "        \"VotingClassifier\\n(average probabilities)\",\n",
    "    ],\n",
    "    rotation=40,\n",
    "    ha=\"right\",\n",
    ")\n",
    "plt.ylim([0, 1])\n",
    "plt.title(\"Class probabilities by different classifiers\")\n",
    "plt.legend([p1[0], p2[0]], [\"Euthanasia\", \"Adoption\"], loc=\"upper left\")\n",
    "plt.tight_layout()\n",
    "\n",
    "plt.savefig('class_prob.jpg')\n",
    "\n",
    "#https://scikit-learn.org/stable/auto_examples/ensemble/plot_voting_probas.html for guidance creating the graph"
   ]
  },
  {
   "cell_type": "code",
   "execution_count": null,
   "id": "c1b2b116",
   "metadata": {},
   "outputs": [],
   "source": []
  }
 ],
 "metadata": {
  "kernelspec": {
   "display_name": "Python 3(metis)",
   "language": "python",
   "name": "metis"
  },
  "language_info": {
   "codemirror_mode": {
    "name": "ipython",
    "version": 3
   },
   "file_extension": ".py",
   "mimetype": "text/x-python",
   "name": "python",
   "nbconvert_exporter": "python",
   "pygments_lexer": "ipython3",
   "version": "3.9.7"
  }
 },
 "nbformat": 4,
 "nbformat_minor": 5
}
